{
  "nbformat": 4,
  "nbformat_minor": 0,
  "metadata": {
    "colab": {
      "name": "Song_rec.ipynb",
      "provenance": []
    },
    "kernelspec": {
      "name": "python3",
      "display_name": "Python 3"
    },
    "language_info": {
      "name": "python"
    }
  },
  "cells": [
    {
      "cell_type": "code",
      "metadata": {
        "colab": {
          "base_uri": "https://localhost:8080/"
        },
        "id": "UhSDL9xuQJTr",
        "outputId": "00867d36-97cf-4c3c-d133-ab5e9200dd1a"
      },
      "source": [
        "# Importing required libraries.\n",
        "import pandas as pd\n",
        "import numpy as np\n",
        "import seaborn as sns \n",
        "import matplotlib.pyplot as plt \n",
        "from imblearn.over_sampling import SMOTE"
      ],
      "execution_count": 2,
      "outputs": [
        {
          "output_type": "stream",
          "name": "stderr",
          "text": [
            "/usr/local/lib/python3.7/dist-packages/sklearn/externals/six.py:31: FutureWarning: The module is deprecated in version 0.21 and will be removed in version 0.23 since we've dropped support for Python 2.7. Please rely on the official version of six (https://pypi.org/project/six/).\n",
            "  \"(https://pypi.org/project/six/).\", FutureWarning)\n",
            "/usr/local/lib/python3.7/dist-packages/sklearn/utils/deprecation.py:144: FutureWarning: The sklearn.neighbors.base module is  deprecated in version 0.22 and will be removed in version 0.24. The corresponding classes / functions should instead be imported from sklearn.neighbors. Anything that cannot be imported from sklearn.neighbors is now part of the private API.\n",
            "  warnings.warn(message, FutureWarning)\n"
          ]
        }
      ]
    },
    {
      "cell_type": "code",
      "metadata": {
        "colab": {
          "base_uri": "https://localhost:8080/",
          "height": 206
        },
        "id": "1AarxpjrQ-E2",
        "outputId": "84fa9efb-9dee-4ad2-83a0-40e81e6e4979"
      },
      "source": [
        "# Reading files\n",
        "#df1 = pd.read_json(\"StreamingHistory0.json\")\n",
        "#df2 = pd.read_json(\"StreamingHistory1.json\")\n",
        "\n",
        "df = pd.read_csv(\"StreamingHistory.csv\")\n",
        "\n",
        "df.head()"
      ],
      "execution_count": 3,
      "outputs": [
        {
          "output_type": "execute_result",
          "data": {
            "text/html": [
              "<div>\n",
              "<style scoped>\n",
              "    .dataframe tbody tr th:only-of-type {\n",
              "        vertical-align: middle;\n",
              "    }\n",
              "\n",
              "    .dataframe tbody tr th {\n",
              "        vertical-align: top;\n",
              "    }\n",
              "\n",
              "    .dataframe thead th {\n",
              "        text-align: right;\n",
              "    }\n",
              "</style>\n",
              "<table border=\"1\" class=\"dataframe\">\n",
              "  <thead>\n",
              "    <tr style=\"text-align: right;\">\n",
              "      <th></th>\n",
              "      <th>endTime</th>\n",
              "      <th>artistName</th>\n",
              "      <th>trackName</th>\n",
              "      <th>msPlayed</th>\n",
              "    </tr>\n",
              "  </thead>\n",
              "  <tbody>\n",
              "    <tr>\n",
              "      <th>0</th>\n",
              "      <td>2020-10-06 19:22</td>\n",
              "      <td>Carter Burwell</td>\n",
              "      <td>The End</td>\n",
              "      <td>63602</td>\n",
              "    </tr>\n",
              "    <tr>\n",
              "      <th>1</th>\n",
              "      <td>2020-10-17 11:52</td>\n",
              "      <td>Taylor Swift</td>\n",
              "      <td>Bad Blood</td>\n",
              "      <td>303562</td>\n",
              "    </tr>\n",
              "    <tr>\n",
              "      <th>2</th>\n",
              "      <td>2020-10-17 11:55</td>\n",
              "      <td>Taylor Swift</td>\n",
              "      <td>A Perfectly Good Heart</td>\n",
              "      <td>136388</td>\n",
              "    </tr>\n",
              "    <tr>\n",
              "      <th>3</th>\n",
              "      <td>2020-10-17 11:56</td>\n",
              "      <td>Trap 6</td>\n",
              "      <td>The Cycle</td>\n",
              "      <td>1576</td>\n",
              "    </tr>\n",
              "    <tr>\n",
              "      <th>4</th>\n",
              "      <td>2020-10-17 11:56</td>\n",
              "      <td>Queen</td>\n",
              "      <td>Bohemian Rhapsody</td>\n",
              "      <td>3564</td>\n",
              "    </tr>\n",
              "  </tbody>\n",
              "</table>\n",
              "</div>"
            ],
            "text/plain": [
              "            endTime      artistName               trackName  msPlayed\n",
              "0  2020-10-06 19:22  Carter Burwell                 The End     63602\n",
              "1  2020-10-17 11:52    Taylor Swift               Bad Blood    303562\n",
              "2  2020-10-17 11:55    Taylor Swift  A Perfectly Good Heart    136388\n",
              "3  2020-10-17 11:56          Trap 6               The Cycle      1576\n",
              "4  2020-10-17 11:56           Queen       Bohemian Rhapsody      3564"
            ]
          },
          "metadata": {},
          "execution_count": 3
        }
      ]
    },
    {
      "cell_type": "code",
      "metadata": {
        "colab": {
          "base_uri": "https://localhost:8080/",
          "height": 206
        },
        "id": "1-iBeeiyTfIO",
        "outputId": "6e8b3e86-9784-4199-eace-c6df96c58dc4"
      },
      "source": [
        "#Renaming columns\n",
        "df = df.rename(columns={\"artistName\":\"artist\",\"endTime\":\"date\",\"trackName\":\"track\"})\n",
        "df.head()"
      ],
      "execution_count": 4,
      "outputs": [
        {
          "output_type": "execute_result",
          "data": {
            "text/html": [
              "<div>\n",
              "<style scoped>\n",
              "    .dataframe tbody tr th:only-of-type {\n",
              "        vertical-align: middle;\n",
              "    }\n",
              "\n",
              "    .dataframe tbody tr th {\n",
              "        vertical-align: top;\n",
              "    }\n",
              "\n",
              "    .dataframe thead th {\n",
              "        text-align: right;\n",
              "    }\n",
              "</style>\n",
              "<table border=\"1\" class=\"dataframe\">\n",
              "  <thead>\n",
              "    <tr style=\"text-align: right;\">\n",
              "      <th></th>\n",
              "      <th>date</th>\n",
              "      <th>artist</th>\n",
              "      <th>track</th>\n",
              "      <th>msPlayed</th>\n",
              "    </tr>\n",
              "  </thead>\n",
              "  <tbody>\n",
              "    <tr>\n",
              "      <th>0</th>\n",
              "      <td>2020-10-06 19:22</td>\n",
              "      <td>Carter Burwell</td>\n",
              "      <td>The End</td>\n",
              "      <td>63602</td>\n",
              "    </tr>\n",
              "    <tr>\n",
              "      <th>1</th>\n",
              "      <td>2020-10-17 11:52</td>\n",
              "      <td>Taylor Swift</td>\n",
              "      <td>Bad Blood</td>\n",
              "      <td>303562</td>\n",
              "    </tr>\n",
              "    <tr>\n",
              "      <th>2</th>\n",
              "      <td>2020-10-17 11:55</td>\n",
              "      <td>Taylor Swift</td>\n",
              "      <td>A Perfectly Good Heart</td>\n",
              "      <td>136388</td>\n",
              "    </tr>\n",
              "    <tr>\n",
              "      <th>3</th>\n",
              "      <td>2020-10-17 11:56</td>\n",
              "      <td>Trap 6</td>\n",
              "      <td>The Cycle</td>\n",
              "      <td>1576</td>\n",
              "    </tr>\n",
              "    <tr>\n",
              "      <th>4</th>\n",
              "      <td>2020-10-17 11:56</td>\n",
              "      <td>Queen</td>\n",
              "      <td>Bohemian Rhapsody</td>\n",
              "      <td>3564</td>\n",
              "    </tr>\n",
              "  </tbody>\n",
              "</table>\n",
              "</div>"
            ],
            "text/plain": [
              "               date          artist                   track  msPlayed\n",
              "0  2020-10-06 19:22  Carter Burwell                 The End     63602\n",
              "1  2020-10-17 11:52    Taylor Swift               Bad Blood    303562\n",
              "2  2020-10-17 11:55    Taylor Swift  A Perfectly Good Heart    136388\n",
              "3  2020-10-17 11:56          Trap 6               The Cycle      1576\n",
              "4  2020-10-17 11:56           Queen       Bohemian Rhapsody      3564"
            ]
          },
          "metadata": {},
          "execution_count": 4
        }
      ]
    },
    {
      "cell_type": "code",
      "metadata": {
        "colab": {
          "base_uri": "https://localhost:8080/",
          "height": 299
        },
        "id": "iM0m2z4hT5wX",
        "outputId": "3f28bf40-1f62-48e5-d7f5-933f2c2b0973"
      },
      "source": [
        "#Paramter for choosing a favourite song\n",
        "ax = df.groupby(['artist','track']).size().to_frame('count').reset_index().plot(kind='hist',bins=9)\n",
        "ax.set_xlim(0,40)\n",
        "ax.set_title(\"Choosing what is a 'favorite' song\")"
      ],
      "execution_count": 5,
      "outputs": [
        {
          "output_type": "execute_result",
          "data": {
            "text/plain": [
              "Text(0.5, 1.0, \"Choosing what is a 'favorite' song\")"
            ]
          },
          "metadata": {},
          "execution_count": 5
        },
        {
          "output_type": "display_data",
          "data": {
            "image/png": "[encoded data removed]",
            "text/plain": [
              "<Figure size 432x288 with 1 Axes>"
            ]
          },
          "metadata": {
            "needs_background": "light"
          }
        }
      ]
    },
    {
      "cell_type": "code",
      "metadata": {
        "colab": {
          "base_uri": "https://localhost:8080/",
          "height": 206
        },
        "id": "lme42bRpUTG5",
        "outputId": "44e8cbd7-121c-4bf6-ead7-be1d37a4d951"
      },
      "source": [
        "# Find number of occurences of each song, and keep songs with 35 or more listens\n",
        "df.groupby(['artist','track']).size().to_frame('count').reset_index()\n",
        "df = df.groupby(['artist','track']).size().to_frame('count').reset_index()\n",
        "df = df[df['count']>=35]\n",
        "# To display the top 5 rows\n",
        "df.head(5)"
      ],
      "execution_count": 6,
      "outputs": [
        {
          "output_type": "execute_result",
          "data": {
            "text/html": [
              "<div>\n",
              "<style scoped>\n",
              "    .dataframe tbody tr th:only-of-type {\n",
              "        vertical-align: middle;\n",
              "    }\n",
              "\n",
              "    .dataframe tbody tr th {\n",
              "        vertical-align: top;\n",
              "    }\n",
              "\n",
              "    .dataframe thead th {\n",
              "        text-align: right;\n",
              "    }\n",
              "</style>\n",
              "<table border=\"1\" class=\"dataframe\">\n",
              "  <thead>\n",
              "    <tr style=\"text-align: right;\">\n",
              "      <th></th>\n",
              "      <th>artist</th>\n",
              "      <th>track</th>\n",
              "      <th>count</th>\n",
              "    </tr>\n",
              "  </thead>\n",
              "  <tbody>\n",
              "    <tr>\n",
              "      <th>0</th>\n",
              "      <td>(G)I-DLE</td>\n",
              "      <td>LATATA</td>\n",
              "      <td>43</td>\n",
              "    </tr>\n",
              "    <tr>\n",
              "      <th>100</th>\n",
              "      <td>Aditi Paul</td>\n",
              "      <td>Ang Laga De</td>\n",
              "      <td>42</td>\n",
              "    </tr>\n",
              "    <tr>\n",
              "      <th>145</th>\n",
              "      <td>Angèle</td>\n",
              "      <td>Ta reine</td>\n",
              "      <td>94</td>\n",
              "    </tr>\n",
              "    <tr>\n",
              "      <th>155</th>\n",
              "      <td>Anirudh Ravichander</td>\n",
              "      <td>Kannazhaga - The Kiss of Love</td>\n",
              "      <td>84</td>\n",
              "    </tr>\n",
              "    <tr>\n",
              "      <th>193</th>\n",
              "      <td>Arijit Singh</td>\n",
              "      <td>Aayat (From \"Bajirao Mastani)</td>\n",
              "      <td>47</td>\n",
              "    </tr>\n",
              "  </tbody>\n",
              "</table>\n",
              "</div>"
            ],
            "text/plain": [
              "                  artist                          track  count\n",
              "0               (G)I-DLE                         LATATA     43\n",
              "100           Aditi Paul                    Ang Laga De     42\n",
              "145               Angèle                       Ta reine     94\n",
              "155  Anirudh Ravichander  Kannazhaga - The Kiss of Love     84\n",
              "193         Arijit Singh  Aayat (From \"Bajirao Mastani)     47"
            ]
          },
          "metadata": {},
          "execution_count": 6
        }
      ]
    },
    {
      "cell_type": "code",
      "metadata": {
        "colab": {
          "base_uri": "https://localhost:8080/",
          "height": 451
        },
        "id": "jeVVnEQwVBTp",
        "outputId": "3322cbca-979d-41fe-80dc-40f0b5104ece"
      },
      "source": [
        "# Read-in Song Features dataset\n",
        "features = pd.read_csv(\"SpotifyFeatures.csv\")\n",
        "\n",
        "# renaming columns\n",
        "features = features.rename(columns={\"artist_name\":\"artist\",\"track_name\":\"track\"})\n",
        "features.head(5)"
      ],
      "execution_count": 15,
      "outputs": [
        {
          "output_type": "execute_result",
          "data": {
            "text/html": [
              "<div>\n",
              "<style scoped>\n",
              "    .dataframe tbody tr th:only-of-type {\n",
              "        vertical-align: middle;\n",
              "    }\n",
              "\n",
              "    .dataframe tbody tr th {\n",
              "        vertical-align: top;\n",
              "    }\n",
              "\n",
              "    .dataframe thead th {\n",
              "        text-align: right;\n",
              "    }\n",
              "</style>\n",
              "<table border=\"1\" class=\"dataframe\">\n",
              "  <thead>\n",
              "    <tr style=\"text-align: right;\">\n",
              "      <th></th>\n",
              "      <th>genre</th>\n",
              "      <th>artist</th>\n",
              "      <th>track</th>\n",
              "      <th>track_id</th>\n",
              "      <th>popularity</th>\n",
              "      <th>acousticness</th>\n",
              "      <th>danceability</th>\n",
              "      <th>duration_ms</th>\n",
              "      <th>energy</th>\n",
              "      <th>instrumentalness</th>\n",
              "      <th>key</th>\n",
              "      <th>liveness</th>\n",
              "      <th>loudness</th>\n",
              "      <th>mode</th>\n",
              "      <th>speechiness</th>\n",
              "      <th>tempo</th>\n",
              "      <th>time_signature</th>\n",
              "      <th>valence</th>\n",
              "    </tr>\n",
              "  </thead>\n",
              "  <tbody>\n",
              "    <tr>\n",
              "      <th>0</th>\n",
              "      <td>Movie</td>\n",
              "      <td>Henri Salvador</td>\n",
              "      <td>C'est beau de faire un Show</td>\n",
              "      <td>0BRjO6ga9RKCKjfDqeFgWV</td>\n",
              "      <td>0.0</td>\n",
              "      <td>0.611</td>\n",
              "      <td>0.389</td>\n",
              "      <td>99373.0</td>\n",
              "      <td>0.910</td>\n",
              "      <td>0.000</td>\n",
              "      <td>C#</td>\n",
              "      <td>0.3460</td>\n",
              "      <td>-1.828</td>\n",
              "      <td>Major</td>\n",
              "      <td>0.0525</td>\n",
              "      <td>166.969</td>\n",
              "      <td>4/4</td>\n",
              "      <td>0.814</td>\n",
              "    </tr>\n",
              "    <tr>\n",
              "      <th>1</th>\n",
              "      <td>Movie</td>\n",
              "      <td>Martin &amp; les fées</td>\n",
              "      <td>Perdu d'avance (par Gad Elmaleh)</td>\n",
              "      <td>0BjC1NfoEOOusryehmNudP</td>\n",
              "      <td>1.0</td>\n",
              "      <td>0.246</td>\n",
              "      <td>0.590</td>\n",
              "      <td>137373.0</td>\n",
              "      <td>0.737</td>\n",
              "      <td>0.000</td>\n",
              "      <td>F#</td>\n",
              "      <td>0.1510</td>\n",
              "      <td>-5.559</td>\n",
              "      <td>Minor</td>\n",
              "      <td>0.0868</td>\n",
              "      <td>174.003</td>\n",
              "      <td>4/4</td>\n",
              "      <td>0.816</td>\n",
              "    </tr>\n",
              "    <tr>\n",
              "      <th>2</th>\n",
              "      <td>Movie</td>\n",
              "      <td>Joseph Williams</td>\n",
              "      <td>Don't Let Me Be Lonely Tonight</td>\n",
              "      <td>0CoSDzoNIKCRs124s9uTVy</td>\n",
              "      <td>3.0</td>\n",
              "      <td>0.952</td>\n",
              "      <td>0.663</td>\n",
              "      <td>170267.0</td>\n",
              "      <td>0.131</td>\n",
              "      <td>0.000</td>\n",
              "      <td>C</td>\n",
              "      <td>0.1030</td>\n",
              "      <td>-13.879</td>\n",
              "      <td>Minor</td>\n",
              "      <td>0.0362</td>\n",
              "      <td>99.488</td>\n",
              "      <td>5/4</td>\n",
              "      <td>0.368</td>\n",
              "    </tr>\n",
              "    <tr>\n",
              "      <th>3</th>\n",
              "      <td>Movie</td>\n",
              "      <td>Henri Salvador</td>\n",
              "      <td>Dis-moi Monsieur Gordon Cooper</td>\n",
              "      <td>0Gc6TVm52BwZD07Ki6tIvf</td>\n",
              "      <td>0.0</td>\n",
              "      <td>0.703</td>\n",
              "      <td>0.240</td>\n",
              "      <td>152427.0</td>\n",
              "      <td>0.326</td>\n",
              "      <td>0.000</td>\n",
              "      <td>C#</td>\n",
              "      <td>0.0985</td>\n",
              "      <td>-12.178</td>\n",
              "      <td>Major</td>\n",
              "      <td>0.0395</td>\n",
              "      <td>171.758</td>\n",
              "      <td>4/4</td>\n",
              "      <td>0.227</td>\n",
              "    </tr>\n",
              "    <tr>\n",
              "      <th>4</th>\n",
              "      <td>Movie</td>\n",
              "      <td>Fabien Nataf</td>\n",
              "      <td>Ouverture</td>\n",
              "      <td>0IuslXpMROHdEPvSl1fTQK</td>\n",
              "      <td>4.0</td>\n",
              "      <td>0.950</td>\n",
              "      <td>0.331</td>\n",
              "      <td>82625.0</td>\n",
              "      <td>0.225</td>\n",
              "      <td>0.123</td>\n",
              "      <td>F</td>\n",
              "      <td>0.2020</td>\n",
              "      <td>-21.150</td>\n",
              "      <td>Major</td>\n",
              "      <td>0.0456</td>\n",
              "      <td>140.576</td>\n",
              "      <td>4/4</td>\n",
              "      <td>0.390</td>\n",
              "    </tr>\n",
              "  </tbody>\n",
              "</table>\n",
              "</div>"
            ],
            "text/plain": [
              "   genre             artist  ... time_signature valence\n",
              "0  Movie     Henri Salvador  ...            4/4   0.814\n",
              "1  Movie  Martin & les fées  ...            4/4   0.816\n",
              "2  Movie    Joseph Williams  ...            5/4   0.368\n",
              "3  Movie     Henri Salvador  ...            4/4   0.227\n",
              "4  Movie       Fabien Nataf  ...            4/4   0.390\n",
              "\n",
              "[5 rows x 18 columns]"
            ]
          },
          "metadata": {},
          "execution_count": 15
        }
      ]
    },
    {
      "cell_type": "code",
      "metadata": {
        "id": "arQ2HtnPcMVn"
      },
      "source": [
        ""
      ],
      "execution_count": null,
      "outputs": []
    },
    {
      "cell_type": "code",
      "metadata": {
        "id": "4rRZL_3uY6RV"
      },
      "source": [
        "\n",
        "# Create 'favorite' column (favorite = 1, not favorite = 0)\n",
        "features['same_artists'] = features.artist.isin(df.artist) \n",
        "features['same_track'] = features.track.isin(df.track) \n",
        "features[\"favorite\"] = np.where((features[\"same_artists\"] == True) & (features[\"same_track\"] == True),1,0) # If both instances are True.\n",
        "features = features.drop([\"same_artists\",\"same_track\"],axis=1)\n",
        "\n"
      ],
      "execution_count": 25,
      "outputs": []
    },
    {
      "cell_type": "code",
      "metadata": {
        "id": "G0zCZHiUZ0oQ"
      },
      "source": [
        "# For future use\n",
        "future = features.copy(deep=True)"
      ],
      "execution_count": 79,
      "outputs": []
    },
    {
      "cell_type": "code",
      "metadata": {
        "id": "TJqbFrrFZ4Ce"
      },
      "source": [
        "# Dropping columns\n",
        "features = features.drop(columns='track_id')\n",
        "features = features.drop(columns='track')\n"
      ],
      "execution_count": 27,
      "outputs": []
    },
    {
      "cell_type": "code",
      "metadata": {
        "colab": {
          "base_uri": "https://localhost:8080/"
        },
        "id": "KbWQi0lqc8e5",
        "outputId": "d37c5909-9f87-475f-e7f7-95436af64dda"
      },
      "source": [
        "# How the classes are imbalanced\n",
        "features.favorite.value_counts()"
      ],
      "execution_count": 29,
      "outputs": [
        {
          "output_type": "execute_result",
          "data": {
            "text/plain": [
              "0    58532\n",
              "1       39\n",
              "Name: favorite, dtype: int64"
            ]
          },
          "metadata": {},
          "execution_count": 29
        }
      ]
    },
    {
      "cell_type": "code",
      "metadata": {
        "colab": {
          "base_uri": "https://localhost:8080/"
        },
        "id": "uesqP4ukdh2o",
        "outputId": "c22d7543-3d4b-421c-bb57-6c7920a6af41"
      },
      "source": [
        "#Clean data\n",
        "\n",
        "data = features[~features.isin([np.nan, np.inf, -np.inf]).any(1)]\n",
        "data.head()\n",
        "\n",
        "data=data.dropna()\n",
        "\n",
        "data.isnull().sum()"
      ],
      "execution_count": 30,
      "outputs": [
        {
          "output_type": "execute_result",
          "data": {
            "text/plain": [
              "genre               0\n",
              "artist              0\n",
              "popularity          0\n",
              "acousticness        0\n",
              "danceability        0\n",
              "duration_ms         0\n",
              "energy              0\n",
              "instrumentalness    0\n",
              "key                 0\n",
              "liveness            0\n",
              "loudness            0\n",
              "mode                0\n",
              "speechiness         0\n",
              "tempo               0\n",
              "time_signature      0\n",
              "valence             0\n",
              "favorite            0\n",
              "dtype: int64"
            ]
          },
          "metadata": {},
          "execution_count": 30
        }
      ]
    },
    {
      "cell_type": "code",
      "metadata": {
        "colab": {
          "base_uri": "https://localhost:8080/"
        },
        "id": "wzn6wpJ8gvrw",
        "outputId": "b49eb119-76c0-4a28-baac-21abc806c889"
      },
      "source": [
        "data.dtypes"
      ],
      "execution_count": 31,
      "outputs": [
        {
          "output_type": "execute_result",
          "data": {
            "text/plain": [
              "genre                object\n",
              "artist               object\n",
              "popularity          float64\n",
              "acousticness        float64\n",
              "danceability        float64\n",
              "duration_ms         float64\n",
              "energy              float64\n",
              "instrumentalness    float64\n",
              "key                  object\n",
              "liveness            float64\n",
              "loudness            float64\n",
              "mode                 object\n",
              "speechiness         float64\n",
              "tempo               float64\n",
              "time_signature       object\n",
              "valence             float64\n",
              "favorite              int64\n",
              "dtype: object"
            ]
          },
          "metadata": {},
          "execution_count": 31
        }
      ]
    },
    {
      "cell_type": "code",
      "metadata": {
        "colab": {
          "base_uri": "https://localhost:8080/",
          "height": 261
        },
        "id": "gUJRkBKPdDRN",
        "outputId": "e4802fa6-ba8a-4401-e843-7d5c6476bc1b"
      },
      "source": [
        "from sklearn import preprocessing as pp\n",
        "X = data.drop(columns=['favorite','genre','artist','key','mode','time_signature'])\n",
        "y = data.favorite\n",
        "oversample = SMOTE()\n",
        "X1, y1 = oversample.fit_sample(X, y)\n",
        "X1 = pd.DataFrame(X1,columns=X.columns)\n",
        "X1['favorite'] = y1\n",
        "\n",
        "\n",
        "X1.head()"
      ],
      "execution_count": 33,
      "outputs": [
        {
          "output_type": "stream",
          "name": "stderr",
          "text": [
            "/usr/local/lib/python3.7/dist-packages/sklearn/utils/deprecation.py:87: FutureWarning: Function safe_indexing is deprecated; safe_indexing is deprecated in version 0.22 and will be removed in version 0.24.\n",
            "  warnings.warn(msg, category=FutureWarning)\n"
          ]
        },
        {
          "output_type": "execute_result",
          "data": {
            "text/html": [
              "<div>\n",
              "<style scoped>\n",
              "    .dataframe tbody tr th:only-of-type {\n",
              "        vertical-align: middle;\n",
              "    }\n",
              "\n",
              "    .dataframe tbody tr th {\n",
              "        vertical-align: top;\n",
              "    }\n",
              "\n",
              "    .dataframe thead th {\n",
              "        text-align: right;\n",
              "    }\n",
              "</style>\n",
              "<table border=\"1\" class=\"dataframe\">\n",
              "  <thead>\n",
              "    <tr style=\"text-align: right;\">\n",
              "      <th></th>\n",
              "      <th>popularity</th>\n",
              "      <th>acousticness</th>\n",
              "      <th>danceability</th>\n",
              "      <th>duration_ms</th>\n",
              "      <th>energy</th>\n",
              "      <th>instrumentalness</th>\n",
              "      <th>liveness</th>\n",
              "      <th>loudness</th>\n",
              "      <th>speechiness</th>\n",
              "      <th>tempo</th>\n",
              "      <th>valence</th>\n",
              "      <th>favorite</th>\n",
              "    </tr>\n",
              "  </thead>\n",
              "  <tbody>\n",
              "    <tr>\n",
              "      <th>0</th>\n",
              "      <td>0.0</td>\n",
              "      <td>0.611</td>\n",
              "      <td>0.389</td>\n",
              "      <td>99373.0</td>\n",
              "      <td>0.910</td>\n",
              "      <td>0.000</td>\n",
              "      <td>0.3460</td>\n",
              "      <td>-1.828</td>\n",
              "      <td>0.0525</td>\n",
              "      <td>166.969</td>\n",
              "      <td>0.814</td>\n",
              "      <td>0</td>\n",
              "    </tr>\n",
              "    <tr>\n",
              "      <th>1</th>\n",
              "      <td>1.0</td>\n",
              "      <td>0.246</td>\n",
              "      <td>0.590</td>\n",
              "      <td>137373.0</td>\n",
              "      <td>0.737</td>\n",
              "      <td>0.000</td>\n",
              "      <td>0.1510</td>\n",
              "      <td>-5.559</td>\n",
              "      <td>0.0868</td>\n",
              "      <td>174.003</td>\n",
              "      <td>0.816</td>\n",
              "      <td>0</td>\n",
              "    </tr>\n",
              "    <tr>\n",
              "      <th>2</th>\n",
              "      <td>3.0</td>\n",
              "      <td>0.952</td>\n",
              "      <td>0.663</td>\n",
              "      <td>170267.0</td>\n",
              "      <td>0.131</td>\n",
              "      <td>0.000</td>\n",
              "      <td>0.1030</td>\n",
              "      <td>-13.879</td>\n",
              "      <td>0.0362</td>\n",
              "      <td>99.488</td>\n",
              "      <td>0.368</td>\n",
              "      <td>0</td>\n",
              "    </tr>\n",
              "    <tr>\n",
              "      <th>3</th>\n",
              "      <td>0.0</td>\n",
              "      <td>0.703</td>\n",
              "      <td>0.240</td>\n",
              "      <td>152427.0</td>\n",
              "      <td>0.326</td>\n",
              "      <td>0.000</td>\n",
              "      <td>0.0985</td>\n",
              "      <td>-12.178</td>\n",
              "      <td>0.0395</td>\n",
              "      <td>171.758</td>\n",
              "      <td>0.227</td>\n",
              "      <td>0</td>\n",
              "    </tr>\n",
              "    <tr>\n",
              "      <th>4</th>\n",
              "      <td>4.0</td>\n",
              "      <td>0.950</td>\n",
              "      <td>0.331</td>\n",
              "      <td>82625.0</td>\n",
              "      <td>0.225</td>\n",
              "      <td>0.123</td>\n",
              "      <td>0.2020</td>\n",
              "      <td>-21.150</td>\n",
              "      <td>0.0456</td>\n",
              "      <td>140.576</td>\n",
              "      <td>0.390</td>\n",
              "      <td>0</td>\n",
              "    </tr>\n",
              "  </tbody>\n",
              "</table>\n",
              "</div>"
            ],
            "text/plain": [
              "   popularity  acousticness  danceability  ...    tempo  valence  favorite\n",
              "0         0.0         0.611         0.389  ...  166.969    0.814         0\n",
              "1         1.0         0.246         0.590  ...  174.003    0.816         0\n",
              "2         3.0         0.952         0.663  ...   99.488    0.368         0\n",
              "3         0.0         0.703         0.240  ...  171.758    0.227         0\n",
              "4         4.0         0.950         0.331  ...  140.576    0.390         0\n",
              "\n",
              "[5 rows x 12 columns]"
            ]
          },
          "metadata": {},
          "execution_count": 33
        }
      ]
    },
    {
      "cell_type": "code",
      "metadata": {
        "colab": {
          "base_uri": "https://localhost:8080/",
          "height": 462
        },
        "id": "FZHpxHQ3490R",
        "outputId": "5cbd9974-11ea-45f4-f2ba-914aef497ebb"
      },
      "source": [
        "# Correlation Matrix of quantitative features\n",
        "plt.figure(figsize=(20,10))\n",
        "c = X1.corr()\n",
        "corr = sns.heatmap(c,cmap=\"BrBG\",annot=True)"
      ],
      "execution_count": 35,
      "outputs": [
        {
          "output_type": "display_data",
          "data": {
            "image/png": "[encoded data removed]",
            "text/plain": [
              "<Figure size 1440x720 with 2 Axes>"
            ]
          },
          "metadata": {
            "needs_background": "light"
          }
        }
      ]
    },
    {
      "cell_type": "code",
      "metadata": {
        "id": "ozIAWZh55C8m"
      },
      "source": [
        "# Importing required libraries\n",
        "import sklearn\n",
        "from sklearn.pipeline import Pipeline\n",
        "from sklearn.model_selection import cross_val_score\n",
        "from sklearn.model_selection import train_test_split\n",
        "from sklearn.model_selection import GridSearchCV\n",
        "from sklearn import metrics \n",
        "from sklearn.metrics import f1_score\n",
        "# Models\n",
        "from sklearn.ensemble import RandomForestClassifier\n",
        "from sklearn.linear_model import LogisticRegression \n",
        "from sklearn.tree import DecisionTreeClassifier"
      ],
      "execution_count": 36,
      "outputs": []
    },
    {
      "cell_type": "code",
      "metadata": {
        "id": "Qtg0np9B5gfs",
        "colab": {
          "base_uri": "https://localhost:8080/"
        },
        "outputId": "2a972707-56d2-4be8-e299-d246dd821e4f"
      },
      "source": [
        "# Train / Split Data\n",
        "X_train, X_test, y_train, y_test = train_test_split(X1.drop(columns='favorite'), X1.favorite,test_size = .20)\n",
        "\n"
      ],
      "execution_count": 53,
      "outputs": [
        {
          "output_type": "execute_result",
          "data": {
            "text/plain": [
              "popularity          0\n",
              "acousticness        0\n",
              "danceability        0\n",
              "duration_ms         0\n",
              "energy              0\n",
              "instrumentalness    0\n",
              "liveness            0\n",
              "loudness            0\n",
              "speechiness         0\n",
              "tempo               0\n",
              "valence             0\n",
              "dtype: int64"
            ]
          },
          "metadata": {},
          "execution_count": 53
        }
      ]
    },
    {
      "cell_type": "markdown",
      "metadata": {
        "id": "vdEFussEjq9U"
      },
      "source": [
        "## **Model Selection with Cross-validation and Hyperparameter Optimization**"
      ]
    },
    {
      "cell_type": "code",
      "metadata": {
        "colab": {
          "base_uri": "https://localhost:8080/"
        },
        "id": "KYXIX8F55sAU",
        "outputId": "e5a4c5fa-1dd3-4700-941b-5b76646859c6"
      },
      "source": [
        "%%time\n",
        "# Logistic Regression\n",
        "lr = LogisticRegression()\n",
        "lr_scores = cross_val_score(lr, X_train, y_train, cv=10, scoring=\"f1\")\n",
        "np.mean(lr_scores)"
      ],
      "execution_count": 38,
      "outputs": [
        {
          "output_type": "stream",
          "name": "stdout",
          "text": [
            "CPU times: user 11.4 s, sys: 7.19 s, total: 18.6 s\n",
            "Wall time: 9.58 s\n"
          ]
        }
      ]
    },
    {
      "cell_type": "code",
      "metadata": {
        "colab": {
          "base_uri": "https://localhost:8080/"
        },
        "id": "92U944ed5xym",
        "outputId": "47dbfa8c-3a92-4308-c56e-75e201cf4d25"
      },
      "source": [
        "# Hyperparameter optimization for Decision Tree Classifier\n",
        "parameters = {\n",
        "    'max_depth':[15,20,30],\n",
        "}\n",
        "dtc = Pipeline([('CV',GridSearchCV(DecisionTreeClassifier(), parameters, cv = 5))])\n",
        "dtc.fit(X_train, y_train)\n",
        "dtc.named_steps['CV'].best_params_"
      ],
      "execution_count": 39,
      "outputs": [
        {
          "output_type": "execute_result",
          "data": {
            "text/plain": [
              "{'max_depth': 30}"
            ]
          },
          "metadata": {},
          "execution_count": 39
        }
      ]
    },
    {
      "cell_type": "code",
      "metadata": {
        "colab": {
          "base_uri": "https://localhost:8080/"
        },
        "id": "imR7IuAl53-9",
        "outputId": "ff84aefa-9a38-4a60-cafd-f85a6b7a785f"
      },
      "source": [
        "%%time\n",
        "# Decision Tree\n",
        "dt = DecisionTreeClassifier(max_depth=30)\n",
        "dt_scores = cross_val_score(dt, X_train, y_train, cv=10, scoring=\"f1\")\n",
        "np.mean(dt_scores)\n",
        "dt.fit(X_train,y_train)"
      ],
      "execution_count": 47,
      "outputs": [
        {
          "output_type": "stream",
          "name": "stdout",
          "text": [
            "CPU times: user 28.1 s, sys: 38.7 ms, total: 28.1 s\n",
            "Wall time: 28.1 s\n"
          ]
        }
      ]
    },
    {
      "cell_type": "code",
      "metadata": {
        "colab": {
          "base_uri": "https://localhost:8080/"
        },
        "id": "4lafJVR05_Yl",
        "outputId": "d888e351-53e1-4550-b12b-85bd815b5e98"
      },
      "source": [
        "# Hyperparameter optimization of RandomForestClassifier\n",
        "parameters = {\n",
        "    'max_depth':[6,12,15,20],\n",
        "    'n_estimators':[20,30]\n",
        "}\n",
        "clf = Pipeline([('CV',GridSearchCV(RandomForestClassifier(), parameters, cv = 5))])\n",
        "clf.fit(X_train, y_train)\n",
        "clf.named_steps['CV'].best_params_"
      ],
      "execution_count": 41,
      "outputs": [
        {
          "output_type": "execute_result",
          "data": {
            "text/plain": [
              "{'max_depth': 20, 'n_estimators': 20}"
            ]
          },
          "metadata": {},
          "execution_count": 41
        }
      ]
    },
    {
      "cell_type": "code",
      "metadata": {
        "colab": {
          "base_uri": "https://localhost:8080/"
        },
        "id": "6wd6Dui96Apb",
        "outputId": "2da040f2-f987-40bd-eca0-97c23557c62d"
      },
      "source": [
        "%%time\n",
        "# Cross-validation for RandomForestClassifier\n",
        "rf = Pipeline([('rf', RandomForestClassifier(n_estimators = 20, max_depth = 30))])\n",
        "rf_scores = cross_val_score(rf, X_train, y_train, cv=10, scoring=\"f1\")\n",
        "np.mean(rf_scores)"
      ],
      "execution_count": 42,
      "outputs": [
        {
          "output_type": "stream",
          "name": "stdout",
          "text": [
            "CPU times: user 1min 26s, sys: 178 ms, total: 1min 26s\n",
            "Wall time: 1min 26s\n"
          ]
        }
      ]
    },
    {
      "cell_type": "markdown",
      "metadata": {
        "id": "c_sFrTOt6cFo"
      },
      "source": [
        "Based on F1 score, we can conclude that the Random Forest Tree is the best model for our prediction problem.\n",
        "\n",
        "Now, I will predict 'favorite' songs from the entire dataset, and get the songs that were not favorited initially but are predicted to be."
      ]
    },
    {
      "cell_type": "markdown",
      "metadata": {
        "id": "8qh8TeNs6gTJ"
      },
      "source": [
        "**Predicting Songs and Saving Dataset for Personal Use**"
      ]
    },
    {
      "cell_type": "code",
      "metadata": {
        "id": "bRZe_OhU6dxz"
      },
      "source": [
        "\n",
        "f=future.drop(columns=['favorite','genre','artist','key','time_signature','mode'])\n",
        "#future.head()\n",
        "f=f.dropna()\n",
        "f.isnull().sum()\n",
        "prediction = dt.predict(f)"
      ],
      "execution_count": 83,
      "outputs": []
    },
    {
      "cell_type": "code",
      "metadata": {
        "colab": {
          "base_uri": "https://localhost:8080/"
        },
        "id": "tJ8h1CFgiNuz",
        "outputId": "e83b967d-728f-46ae-966f-c171fa41b114"
      },
      "source": [
        "future = future.dropna()\n",
        "future['prediction'] = prediction"
      ],
      "execution_count": 85,
      "outputs": [
        {
          "output_type": "stream",
          "name": "stderr",
          "text": [
            "/usr/local/lib/python3.7/dist-packages/ipykernel_launcher.py:2: SettingWithCopyWarning: \n",
            "A value is trying to be set on a copy of a slice from a DataFrame.\n",
            "Try using .loc[row_indexer,col_indexer] = value instead\n",
            "\n",
            "See the caveats in the documentation: https://pandas.pydata.org/pandas-docs/stable/user_guide/indexing.html#returning-a-view-versus-a-copy\n",
            "  \n"
          ]
        }
      ]
    },
    {
      "cell_type": "code",
      "metadata": {
        "id": "392tJAEOiPAq"
      },
      "source": [
        "# Gets only songs that were not favorites but are predicted to be\n",
        "future = future[(future['favorite']==0) & (future['prediction'] == 1)]"
      ],
      "execution_count": 86,
      "outputs": []
    },
    {
      "cell_type": "code",
      "metadata": {
        "id": "sWe-Dh6pjBBU"
      },
      "source": [
        "future = future.drop(columns=['energy','duration_ms','acousticness','key','liveness','loudness','mode','speechiness','tempo','time_signature','valence'])"
      ],
      "execution_count": 88,
      "outputs": []
    },
    {
      "cell_type": "code",
      "metadata": {
        "colab": {
          "base_uri": "https://localhost:8080/",
          "height": 423
        },
        "id": "KjDIa6SNjHa8",
        "outputId": "9aa53e9e-7ecf-42ab-db51-1fb7bb44737b"
      },
      "source": [
        "future"
      ],
      "execution_count": 89,
      "outputs": [
        {
          "output_type": "execute_result",
          "data": {
            "text/html": [
              "<div>\n",
              "<style scoped>\n",
              "    .dataframe tbody tr th:only-of-type {\n",
              "        vertical-align: middle;\n",
              "    }\n",
              "\n",
              "    .dataframe tbody tr th {\n",
              "        vertical-align: top;\n",
              "    }\n",
              "\n",
              "    .dataframe thead th {\n",
              "        text-align: right;\n",
              "    }\n",
              "</style>\n",
              "<table border=\"1\" class=\"dataframe\">\n",
              "  <thead>\n",
              "    <tr style=\"text-align: right;\">\n",
              "      <th></th>\n",
              "      <th>genre</th>\n",
              "      <th>artist</th>\n",
              "      <th>popularity</th>\n",
              "      <th>danceability</th>\n",
              "      <th>instrumentalness</th>\n",
              "      <th>favorite</th>\n",
              "      <th>prediction</th>\n",
              "    </tr>\n",
              "  </thead>\n",
              "  <tbody>\n",
              "    <tr>\n",
              "      <th>139</th>\n",
              "      <td>R&amp;B</td>\n",
              "      <td>Olivia O'Brien</td>\n",
              "      <td>68.0</td>\n",
              "      <td>0.653</td>\n",
              "      <td>0.000000</td>\n",
              "      <td>0</td>\n",
              "      <td>1</td>\n",
              "    </tr>\n",
              "    <tr>\n",
              "      <th>144</th>\n",
              "      <td>R&amp;B</td>\n",
              "      <td>Usher</td>\n",
              "      <td>69.0</td>\n",
              "      <td>0.761</td>\n",
              "      <td>0.000000</td>\n",
              "      <td>0</td>\n",
              "      <td>1</td>\n",
              "    </tr>\n",
              "    <tr>\n",
              "      <th>154</th>\n",
              "      <td>R&amp;B</td>\n",
              "      <td>SZA</td>\n",
              "      <td>65.0</td>\n",
              "      <td>0.759</td>\n",
              "      <td>0.000000</td>\n",
              "      <td>0</td>\n",
              "      <td>1</td>\n",
              "    </tr>\n",
              "    <tr>\n",
              "      <th>156</th>\n",
              "      <td>R&amp;B</td>\n",
              "      <td>Roy Woods</td>\n",
              "      <td>68.0</td>\n",
              "      <td>0.690</td>\n",
              "      <td>0.000000</td>\n",
              "      <td>0</td>\n",
              "      <td>1</td>\n",
              "    </tr>\n",
              "    <tr>\n",
              "      <th>161</th>\n",
              "      <td>R&amp;B</td>\n",
              "      <td>Rihanna</td>\n",
              "      <td>72.0</td>\n",
              "      <td>0.637</td>\n",
              "      <td>0.000000</td>\n",
              "      <td>0</td>\n",
              "      <td>1</td>\n",
              "    </tr>\n",
              "    <tr>\n",
              "      <th>...</th>\n",
              "      <td>...</td>\n",
              "      <td>...</td>\n",
              "      <td>...</td>\n",
              "      <td>...</td>\n",
              "      <td>...</td>\n",
              "      <td>...</td>\n",
              "      <td>...</td>\n",
              "    </tr>\n",
              "    <tr>\n",
              "      <th>56766</th>\n",
              "      <td>R&amp;B</td>\n",
              "      <td>Fifth Harmony</td>\n",
              "      <td>65.0</td>\n",
              "      <td>0.592</td>\n",
              "      <td>0.000000</td>\n",
              "      <td>0</td>\n",
              "      <td>1</td>\n",
              "    </tr>\n",
              "    <tr>\n",
              "      <th>56985</th>\n",
              "      <td>R&amp;B</td>\n",
              "      <td>Zara Larsson</td>\n",
              "      <td>67.0</td>\n",
              "      <td>0.650</td>\n",
              "      <td>0.000000</td>\n",
              "      <td>0</td>\n",
              "      <td>1</td>\n",
              "    </tr>\n",
              "    <tr>\n",
              "      <th>56988</th>\n",
              "      <td>R&amp;B</td>\n",
              "      <td>Sade</td>\n",
              "      <td>65.0</td>\n",
              "      <td>0.728</td>\n",
              "      <td>0.000062</td>\n",
              "      <td>0</td>\n",
              "      <td>1</td>\n",
              "    </tr>\n",
              "    <tr>\n",
              "      <th>57314</th>\n",
              "      <td>R&amp;B</td>\n",
              "      <td>Natasha Bedingfield</td>\n",
              "      <td>66.0</td>\n",
              "      <td>0.734</td>\n",
              "      <td>0.000000</td>\n",
              "      <td>0</td>\n",
              "      <td>1</td>\n",
              "    </tr>\n",
              "    <tr>\n",
              "      <th>57379</th>\n",
              "      <td>R&amp;B</td>\n",
              "      <td>Little Mix</td>\n",
              "      <td>68.0</td>\n",
              "      <td>0.762</td>\n",
              "      <td>0.000001</td>\n",
              "      <td>0</td>\n",
              "      <td>1</td>\n",
              "    </tr>\n",
              "  </tbody>\n",
              "</table>\n",
              "<p>583 rows × 7 columns</p>\n",
              "</div>"
            ],
            "text/plain": [
              "      genre               artist  ...  favorite  prediction\n",
              "139     R&B       Olivia O'Brien  ...         0           1\n",
              "144     R&B                Usher  ...         0           1\n",
              "154     R&B                  SZA  ...         0           1\n",
              "156     R&B            Roy Woods  ...         0           1\n",
              "161     R&B              Rihanna  ...         0           1\n",
              "...     ...                  ...  ...       ...         ...\n",
              "56766   R&B        Fifth Harmony  ...         0           1\n",
              "56985   R&B         Zara Larsson  ...         0           1\n",
              "56988   R&B                 Sade  ...         0           1\n",
              "57314   R&B  Natasha Bedingfield  ...         0           1\n",
              "57379   R&B           Little Mix  ...         0           1\n",
              "\n",
              "[583 rows x 7 columns]"
            ]
          },
          "metadata": {},
          "execution_count": 89
        }
      ]
    },
    {
      "cell_type": "code",
      "metadata": {
        "id": "W0XEV9ZojNGQ"
      },
      "source": [
        "# Saving csv\n",
        "future.to_csv(\"recommendations.csv\")"
      ],
      "execution_count": 90,
      "outputs": []
    }
  ]
}